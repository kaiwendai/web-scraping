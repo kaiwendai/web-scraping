{
 "cells": [
  {
   "cell_type": "markdown",
   "metadata": {},
   "source": [
    "# Part 2 - Using an API"
   ]
  },
  {
   "cell_type": "code",
   "execution_count": 1,
   "metadata": {},
   "outputs": [],
   "source": [
    "import pandas as pd\n",
    "import requests"
   ]
  },
  {
   "cell_type": "markdown",
   "metadata": {},
   "source": [
    "## 1. Retrieve the data, and examine it.\n"
   ]
  },
  {
   "cell_type": "code",
   "execution_count": 2,
   "metadata": {
    "scrolled": true
   },
   "outputs": [
    {
     "data": {
      "text/plain": [
       "{'id': '2baf70d1-42bb-4437-b551-e5fed5a87abe',\n",
       " 'title': 'Castle in the Sky',\n",
       " 'original_title': '天空の城ラピュタ',\n",
       " 'original_title_romanised': 'Tenkū no shiro Rapyuta',\n",
       " 'description': \"The orphan Sheeta inherited a mysterious crystal that links her to the mythical sky-kingdom of Laputa. With the help of resourceful Pazu and a rollicking band of sky pirates, she makes her way to the ruins of the once-great civilization. Sheeta and Pazu must outwit the evil Muska, who plans to use Laputa's science to make himself ruler of the world.\",\n",
       " 'director': 'Hayao Miyazaki',\n",
       " 'producer': 'Isao Takahata',\n",
       " 'release_date': '1986',\n",
       " 'running_time': '124',\n",
       " 'rt_score': '95',\n",
       " 'people': ['https://ghibliapi.herokuapp.com/people/'],\n",
       " 'species': ['https://ghibliapi.herokuapp.com/species/af3910a6-429f-4c74-9ad5-dfe1c4aa04f2'],\n",
       " 'locations': ['https://ghibliapi.herokuapp.com/locations/'],\n",
       " 'vehicles': ['https://ghibliapi.herokuapp.com/vehicles/'],\n",
       " 'url': 'https://ghibliapi.herokuapp.com/films/2baf70d1-42bb-4437-b551-e5fed5a87abe'}"
      ]
     },
     "execution_count": 2,
     "metadata": {},
     "output_type": "execute_result"
    }
   ],
   "source": [
    "r = requests.get('http://linserv1.cims.nyu.edu:10000/films?_page=1')\n",
    "d = r.json()\n",
    "d[0]"
   ]
  },
  {
   "cell_type": "markdown",
   "metadata": {},
   "source": [
    "####  - Keys useful: `director`, `rt_socre`"
   ]
  },
  {
   "cell_type": "markdown",
   "metadata": {},
   "source": [
    "### Incrementing the page number"
   ]
  },
  {
   "cell_type": "code",
   "execution_count": 3,
   "metadata": {
    "scrolled": true
   },
   "outputs": [
    {
     "data": {
      "text/plain": [
       "{'id': 'dc2e6bd1-8156-4886-adff-b39e6043af0c',\n",
       " 'title': 'Spirited Away',\n",
       " 'original_title': '千と千尋の神隠し',\n",
       " 'original_title_romanised': 'Sen to Chihiro no kamikakushi',\n",
       " 'description': 'Spirited Away is an Oscar winning Japanese animated film about a ten year old girl who wanders away from her parents along a path that leads to a world ruled by strange and unusual monster-like animals. Her parents have been changed into pigs along with others inside a bathhouse full of these creatures. Will she ever see the world how it once was?',\n",
       " 'director': 'Hayao Miyazaki',\n",
       " 'producer': 'Toshio Suzuki',\n",
       " 'release_date': '2001',\n",
       " 'running_time': '124',\n",
       " 'rt_score': '97',\n",
       " 'people': ['https://ghibliapi.herokuapp.com/people/'],\n",
       " 'species': ['https://ghibliapi.herokuapp.com/species/af3910a6-429f-4c74-9ad5-dfe1c4aa04f2'],\n",
       " 'locations': ['https://ghibliapi.herokuapp.com/locations/'],\n",
       " 'vehicles': ['https://ghibliapi.herokuapp.com/vehicles/'],\n",
       " 'url': 'https://ghibliapi.herokuapp.com/films/dc2e6bd1-8156-4886-adff-b39e6043af0c'}"
      ]
     },
     "execution_count": 3,
     "metadata": {},
     "output_type": "execute_result"
    }
   ],
   "source": [
    "r = requests.get('http://linserv1.cims.nyu.edu:10000/films?_page=2')\n",
    "d = r.json()\n",
    "d[0]"
   ]
  },
  {
   "cell_type": "code",
   "execution_count": 4,
   "metadata": {},
   "outputs": [
    {
     "data": {
      "text/plain": [
       "{'id': 'd868e6ec-c44a-405b-8fa6-f7f0f8cfb500',\n",
       " 'title': 'The Red Turtle',\n",
       " 'original_title': 'レッドタートル ある島の物語',\n",
       " 'original_title_romanised': 'Reddotātoru aru shima no monogatari',\n",
       " 'description': 'A man set adrift by a storm wakes up on a beach. He discovers that he is on a deserted island with plenty of fresh water, fruit and a dense bamboo forest. He builds a raft from bamboo and attempts to sail away, but his raft is destroyed by an unseen monster in the sea, forcing him back to the island. He tries again with another, larger raft, but is again foiled by the creature. A third attempt again ends with the raft destroyed, but this time he is confronted by a giant red turtle, which stares at him, and forces him back to the island.',\n",
       " 'director': 'Michaël Dudok de Wit',\n",
       " 'producer': 'Toshio Suzuki, Isao Takahata, Vincent Maraval, Pascal Caucheteux, Grégoire Sorlat',\n",
       " 'release_date': '2016',\n",
       " 'running_time': '80',\n",
       " 'rt_score': '93',\n",
       " 'people': ['https://ghibliapi.herokuapp.com/people/'],\n",
       " 'species': ['https://ghibliapi.herokuapp.com/species/'],\n",
       " 'locations': ['https://ghibliapi.herokuapp.com/locations/'],\n",
       " 'vehicles': ['https://ghibliapi.herokuapp.com/vehicles/'],\n",
       " 'url': 'https://ghibliapi.herokuapp.com/films/d868e6ec-c44a-405b-8fa6-f7f0f8cfb500'}"
      ]
     },
     "execution_count": 4,
     "metadata": {},
     "output_type": "execute_result"
    }
   ],
   "source": [
    "r = requests.get('http://linserv1.cims.nyu.edu:10000/films?_page=3')\n",
    "d = r.json()\n",
    "d[0]"
   ]
  },
  {
   "cell_type": "markdown",
   "metadata": {},
   "source": [
    "## 2. Load the data into a DataFrame"
   ]
  },
  {
   "cell_type": "code",
   "execution_count": 5,
   "metadata": {},
   "outputs": [],
   "source": [
    "container = list()\n",
    "i = 0\n",
    "while True:\n",
    "    i += 1\n",
    "    r = requests.get('http://linserv1.cims.nyu.edu:10000/films?_page=' + str(i))\n",
    "    d = r.json()\n",
    "    if d == []:\n",
    "        break\n",
    "    else:\n",
    "        for j in range(len(d)):\n",
    "            container.append(d[j])"
   ]
  },
  {
   "cell_type": "code",
   "execution_count": 6,
   "metadata": {},
   "outputs": [
    {
     "data": {
      "text/html": [
       "<div>\n",
       "<style scoped>\n",
       "    .dataframe tbody tr th:only-of-type {\n",
       "        vertical-align: middle;\n",
       "    }\n",
       "\n",
       "    .dataframe tbody tr th {\n",
       "        vertical-align: top;\n",
       "    }\n",
       "\n",
       "    .dataframe thead th {\n",
       "        text-align: right;\n",
       "    }\n",
       "</style>\n",
       "<table border=\"1\" class=\"dataframe\">\n",
       "  <thead>\n",
       "    <tr style=\"text-align: right;\">\n",
       "      <th></th>\n",
       "      <th>id</th>\n",
       "      <th>title</th>\n",
       "      <th>original_title</th>\n",
       "      <th>original_title_romanised</th>\n",
       "      <th>description</th>\n",
       "      <th>director</th>\n",
       "      <th>producer</th>\n",
       "      <th>release_date</th>\n",
       "      <th>running_time</th>\n",
       "      <th>rt_score</th>\n",
       "      <th>people</th>\n",
       "      <th>species</th>\n",
       "      <th>locations</th>\n",
       "      <th>vehicles</th>\n",
       "      <th>url</th>\n",
       "    </tr>\n",
       "  </thead>\n",
       "  <tbody>\n",
       "    <tr>\n",
       "      <th>0</th>\n",
       "      <td>2baf70d1-42bb-4437-b551-e5fed5a87abe</td>\n",
       "      <td>Castle in the Sky</td>\n",
       "      <td>天空の城ラピュタ</td>\n",
       "      <td>Tenkū no shiro Rapyuta</td>\n",
       "      <td>The orphan Sheeta inherited a mysterious cryst...</td>\n",
       "      <td>Hayao Miyazaki</td>\n",
       "      <td>Isao Takahata</td>\n",
       "      <td>1986</td>\n",
       "      <td>124</td>\n",
       "      <td>95</td>\n",
       "      <td>[https://ghibliapi.herokuapp.com/people/]</td>\n",
       "      <td>[https://ghibliapi.herokuapp.com/species/af391...</td>\n",
       "      <td>[https://ghibliapi.herokuapp.com/locations/]</td>\n",
       "      <td>[https://ghibliapi.herokuapp.com/vehicles/]</td>\n",
       "      <td>https://ghibliapi.herokuapp.com/films/2baf70d1...</td>\n",
       "    </tr>\n",
       "    <tr>\n",
       "      <th>1</th>\n",
       "      <td>12cfb892-aac0-4c5b-94af-521852e46d6a</td>\n",
       "      <td>Grave of the Fireflies</td>\n",
       "      <td>火垂るの墓</td>\n",
       "      <td>Hotaru no haka</td>\n",
       "      <td>In the latter part of World War II, a boy and ...</td>\n",
       "      <td>Isao Takahata</td>\n",
       "      <td>Toru Hara</td>\n",
       "      <td>1988</td>\n",
       "      <td>89</td>\n",
       "      <td>97</td>\n",
       "      <td>[https://ghibliapi.herokuapp.com/people/]</td>\n",
       "      <td>[https://ghibliapi.herokuapp.com/species/af391...</td>\n",
       "      <td>[https://ghibliapi.herokuapp.com/locations/]</td>\n",
       "      <td>[https://ghibliapi.herokuapp.com/vehicles/]</td>\n",
       "      <td>https://ghibliapi.herokuapp.com/films/12cfb892...</td>\n",
       "    </tr>\n",
       "    <tr>\n",
       "      <th>2</th>\n",
       "      <td>58611129-2dbc-4a81-a72f-77ddfc1b1b49</td>\n",
       "      <td>My Neighbor Totoro</td>\n",
       "      <td>となりのトトロ</td>\n",
       "      <td>Tonari no Totoro</td>\n",
       "      <td>Two sisters move to the country with their fat...</td>\n",
       "      <td>Hayao Miyazaki</td>\n",
       "      <td>Hayao Miyazaki</td>\n",
       "      <td>1988</td>\n",
       "      <td>86</td>\n",
       "      <td>93</td>\n",
       "      <td>[https://ghibliapi.herokuapp.com/people/986faa...</td>\n",
       "      <td>[https://ghibliapi.herokuapp.com/species/af391...</td>\n",
       "      <td>[https://ghibliapi.herokuapp.com/locations/]</td>\n",
       "      <td>[https://ghibliapi.herokuapp.com/vehicles/]</td>\n",
       "      <td>https://ghibliapi.herokuapp.com/films/58611129...</td>\n",
       "    </tr>\n",
       "    <tr>\n",
       "      <th>3</th>\n",
       "      <td>ea660b10-85c4-4ae3-8a5f-41cea3648e3e</td>\n",
       "      <td>Kiki's Delivery Service</td>\n",
       "      <td>魔女の宅急便</td>\n",
       "      <td>Majo no takkyūbin</td>\n",
       "      <td>A young witch, on her mandatory year of indepe...</td>\n",
       "      <td>Hayao Miyazaki</td>\n",
       "      <td>Hayao Miyazaki</td>\n",
       "      <td>1989</td>\n",
       "      <td>102</td>\n",
       "      <td>96</td>\n",
       "      <td>[https://ghibliapi.herokuapp.com/people/]</td>\n",
       "      <td>[https://ghibliapi.herokuapp.com/species/af391...</td>\n",
       "      <td>[https://ghibliapi.herokuapp.com/locations/]</td>\n",
       "      <td>[https://ghibliapi.herokuapp.com/vehicles/]</td>\n",
       "      <td>https://ghibliapi.herokuapp.com/films/ea660b10...</td>\n",
       "    </tr>\n",
       "    <tr>\n",
       "      <th>4</th>\n",
       "      <td>4e236f34-b981-41c3-8c65-f8c9000b94e7</td>\n",
       "      <td>Only Yesterday</td>\n",
       "      <td>おもひでぽろぽろ</td>\n",
       "      <td>Omoide poro poro</td>\n",
       "      <td>It’s 1982, and Taeko is 27 years old, unmarrie...</td>\n",
       "      <td>Isao Takahata</td>\n",
       "      <td>Toshio Suzuki</td>\n",
       "      <td>1991</td>\n",
       "      <td>118</td>\n",
       "      <td>100</td>\n",
       "      <td>[https://ghibliapi.herokuapp.com/people/]</td>\n",
       "      <td>[https://ghibliapi.herokuapp.com/species/af391...</td>\n",
       "      <td>[https://ghibliapi.herokuapp.com/locations/]</td>\n",
       "      <td>[https://ghibliapi.herokuapp.com/vehicles/]</td>\n",
       "      <td>https://ghibliapi.herokuapp.com/films/4e236f34...</td>\n",
       "    </tr>\n",
       "  </tbody>\n",
       "</table>\n",
       "</div>"
      ],
      "text/plain": [
       "                                     id                    title  \\\n",
       "0  2baf70d1-42bb-4437-b551-e5fed5a87abe        Castle in the Sky   \n",
       "1  12cfb892-aac0-4c5b-94af-521852e46d6a   Grave of the Fireflies   \n",
       "2  58611129-2dbc-4a81-a72f-77ddfc1b1b49       My Neighbor Totoro   \n",
       "3  ea660b10-85c4-4ae3-8a5f-41cea3648e3e  Kiki's Delivery Service   \n",
       "4  4e236f34-b981-41c3-8c65-f8c9000b94e7           Only Yesterday   \n",
       "\n",
       "  original_title original_title_romanised  \\\n",
       "0       天空の城ラピュタ   Tenkū no shiro Rapyuta   \n",
       "1          火垂るの墓           Hotaru no haka   \n",
       "2        となりのトトロ         Tonari no Totoro   \n",
       "3         魔女の宅急便        Majo no takkyūbin   \n",
       "4       おもひでぽろぽろ         Omoide poro poro   \n",
       "\n",
       "                                         description        director  \\\n",
       "0  The orphan Sheeta inherited a mysterious cryst...  Hayao Miyazaki   \n",
       "1  In the latter part of World War II, a boy and ...   Isao Takahata   \n",
       "2  Two sisters move to the country with their fat...  Hayao Miyazaki   \n",
       "3  A young witch, on her mandatory year of indepe...  Hayao Miyazaki   \n",
       "4  It’s 1982, and Taeko is 27 years old, unmarrie...   Isao Takahata   \n",
       "\n",
       "         producer release_date running_time rt_score  \\\n",
       "0   Isao Takahata         1986          124       95   \n",
       "1       Toru Hara         1988           89       97   \n",
       "2  Hayao Miyazaki         1988           86       93   \n",
       "3  Hayao Miyazaki         1989          102       96   \n",
       "4   Toshio Suzuki         1991          118      100   \n",
       "\n",
       "                                              people  \\\n",
       "0          [https://ghibliapi.herokuapp.com/people/]   \n",
       "1          [https://ghibliapi.herokuapp.com/people/]   \n",
       "2  [https://ghibliapi.herokuapp.com/people/986faa...   \n",
       "3          [https://ghibliapi.herokuapp.com/people/]   \n",
       "4          [https://ghibliapi.herokuapp.com/people/]   \n",
       "\n",
       "                                             species  \\\n",
       "0  [https://ghibliapi.herokuapp.com/species/af391...   \n",
       "1  [https://ghibliapi.herokuapp.com/species/af391...   \n",
       "2  [https://ghibliapi.herokuapp.com/species/af391...   \n",
       "3  [https://ghibliapi.herokuapp.com/species/af391...   \n",
       "4  [https://ghibliapi.herokuapp.com/species/af391...   \n",
       "\n",
       "                                      locations  \\\n",
       "0  [https://ghibliapi.herokuapp.com/locations/]   \n",
       "1  [https://ghibliapi.herokuapp.com/locations/]   \n",
       "2  [https://ghibliapi.herokuapp.com/locations/]   \n",
       "3  [https://ghibliapi.herokuapp.com/locations/]   \n",
       "4  [https://ghibliapi.herokuapp.com/locations/]   \n",
       "\n",
       "                                      vehicles  \\\n",
       "0  [https://ghibliapi.herokuapp.com/vehicles/]   \n",
       "1  [https://ghibliapi.herokuapp.com/vehicles/]   \n",
       "2  [https://ghibliapi.herokuapp.com/vehicles/]   \n",
       "3  [https://ghibliapi.herokuapp.com/vehicles/]   \n",
       "4  [https://ghibliapi.herokuapp.com/vehicles/]   \n",
       "\n",
       "                                                 url  \n",
       "0  https://ghibliapi.herokuapp.com/films/2baf70d1...  \n",
       "1  https://ghibliapi.herokuapp.com/films/12cfb892...  \n",
       "2  https://ghibliapi.herokuapp.com/films/58611129...  \n",
       "3  https://ghibliapi.herokuapp.com/films/ea660b10...  \n",
       "4  https://ghibliapi.herokuapp.com/films/4e236f34...  "
      ]
     },
     "execution_count": 6,
     "metadata": {},
     "output_type": "execute_result"
    }
   ],
   "source": [
    "df = pd.DataFrame(container)\n",
    "df.head()"
   ]
  },
  {
   "cell_type": "markdown",
   "metadata": {},
   "source": [
    "## 3. Report\n"
   ]
  },
  {
   "cell_type": "code",
   "execution_count": 7,
   "metadata": {},
   "outputs": [],
   "source": [
    "df['rt_score'] = df['rt_score'].astype(int)\n",
    "rt_score = df.groupby('director').mean()"
   ]
  },
  {
   "cell_type": "code",
   "execution_count": 8,
   "metadata": {},
   "outputs": [],
   "source": [
    "count = df['director'].value_counts()"
   ]
  },
  {
   "cell_type": "code",
   "execution_count": 9,
   "metadata": {},
   "outputs": [],
   "source": [
    "report = pd.concat([rt_score, count], axis=1)\n",
    "report.index.name = 'director'\n",
    "report.sort_values(by=['rt_score'], ascending = False, inplace = True)"
   ]
  },
  {
   "cell_type": "code",
   "execution_count": 10,
   "metadata": {},
   "outputs": [
    {
     "data": {
      "text/html": [
       "<div>\n",
       "<style scoped>\n",
       "    .dataframe tbody tr th:only-of-type {\n",
       "        vertical-align: middle;\n",
       "    }\n",
       "\n",
       "    .dataframe tbody tr th {\n",
       "        vertical-align: top;\n",
       "    }\n",
       "\n",
       "    .dataframe thead th {\n",
       "        text-align: right;\n",
       "    }\n",
       "</style>\n",
       "<table border=\"1\" class=\"dataframe\">\n",
       "  <thead>\n",
       "    <tr style=\"text-align: right;\">\n",
       "      <th></th>\n",
       "      <th>rt_score</th>\n",
       "      <th>director</th>\n",
       "    </tr>\n",
       "    <tr>\n",
       "      <th>director</th>\n",
       "      <th></th>\n",
       "      <th></th>\n",
       "    </tr>\n",
       "  </thead>\n",
       "  <tbody>\n",
       "    <tr>\n",
       "      <th>Hiromasa Yonebayashi</th>\n",
       "      <td>93.500000</td>\n",
       "      <td>2</td>\n",
       "    </tr>\n",
       "    <tr>\n",
       "      <th>Michaël Dudok de Wit</th>\n",
       "      <td>93.000000</td>\n",
       "      <td>1</td>\n",
       "    </tr>\n",
       "    <tr>\n",
       "      <th>Hayao Miyazaki</th>\n",
       "      <td>92.777778</td>\n",
       "      <td>9</td>\n",
       "    </tr>\n",
       "    <tr>\n",
       "      <th>Yoshifumi Kondō</th>\n",
       "      <td>91.000000</td>\n",
       "      <td>1</td>\n",
       "    </tr>\n",
       "    <tr>\n",
       "      <th>Isao Takahata</th>\n",
       "      <td>90.000000</td>\n",
       "      <td>5</td>\n",
       "    </tr>\n",
       "    <tr>\n",
       "      <th>Hiroyuki Morita</th>\n",
       "      <td>89.000000</td>\n",
       "      <td>1</td>\n",
       "    </tr>\n",
       "    <tr>\n",
       "      <th>Gorō Miyazaki</th>\n",
       "      <td>62.000000</td>\n",
       "      <td>2</td>\n",
       "    </tr>\n",
       "  </tbody>\n",
       "</table>\n",
       "</div>"
      ],
      "text/plain": [
       "                       rt_score  director\n",
       "director                                 \n",
       "Hiromasa Yonebayashi  93.500000         2\n",
       "Michaël Dudok de Wit  93.000000         1\n",
       "Hayao Miyazaki        92.777778         9\n",
       "Yoshifumi Kondō       91.000000         1\n",
       "Isao Takahata         90.000000         5\n",
       "Hiroyuki Morita       89.000000         1\n",
       "Gorō Miyazaki         62.000000         2"
      ]
     },
     "execution_count": 10,
     "metadata": {},
     "output_type": "execute_result"
    }
   ],
   "source": [
    "report"
   ]
  }
 ],
 "metadata": {
  "kernelspec": {
   "display_name": "Python 3 (ipykernel)",
   "language": "python",
   "name": "python3"
  },
  "language_info": {
   "codemirror_mode": {
    "name": "ipython",
    "version": 3
   },
   "file_extension": ".py",
   "mimetype": "text/x-python",
   "name": "python",
   "nbconvert_exporter": "python",
   "pygments_lexer": "ipython3",
   "version": "3.8.8"
  }
 },
 "nbformat": 4,
 "nbformat_minor": 4
}
